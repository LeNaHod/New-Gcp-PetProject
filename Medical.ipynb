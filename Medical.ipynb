{
 "cells": [
  {
   "cell_type": "code",
   "execution_count": null,
   "metadata": {},
   "outputs": [],
   "source": [
    "#동물병원 CSV 원본파일 PYSPARK를 통한 전처리작업\n",
    "from pyspark.sql import *\n",
    "from pyspark.sql.functions import col, lit\n",
    "import pyspark.sql.functions \n",
    "\n",
    "\n",
    "medical_read=spark.read.format(\"csv\").option(\"header\", \"true\").option(\"inferSchema\", \"true\").option(\"encoding\",\"cp949\").load('/user/medical.csv/medicaladdress.csv')\n",
    "\n",
    "sort1=medical_read.select(col(\"사업장명\"),col(\"소재지전체주소\"),col(\"소재지전화\"),col(\"좌표정보(x)\"),col(\"좌표정보(y)\"))\n",
    "#sort1 /9589\n",
    "sort1.show()\n",
    "\n",
    "#비어있는 값이 있으면 무조건 해당 로우삭제.\n",
    "# drop_null /6402\n",
    "drop_null=sort1.na.drop(\"any\")\n",
    "drop_null.show(6403)\n",
    "\n",
    "#약국과 병원 분리작업\n",
    "#해당 단어포함시 총갯수 기록:병원만=5665/메디컬 포함=5845 /센터포함=6194\n",
    "\n",
    "medical_filter=drop_null.filter(col('사업장명').like('%병원%') | col('사업장명').like('%메디컬%') | col('사업장명').like('%센터%'))\n",
    "medical_filter.show(6197)\n",
    "\n",
    "#medical_final_1.csv생성\n",
    "medical_filter.coalesce(1).write.options(header='True', delimiter=',', encoding=\"cp949\").csv('/user/medical/medical_final_1.csv/')"
   ]
  },
  {
   "cell_type": "code",
   "execution_count": null,
   "metadata": {},
   "outputs": [],
   "source": [
    "# Pyspark로 전처리할때 빠트린 중복값 검색,제거, 중복제거로일어난 id값 재정렬 \n",
    "\n",
    "#id제외 위도,경도 중복값 조회\n",
    "SELECT lot,lat, COUNT(*) as cnt\n",
    "FROM medical #위에서 만든 medical이라는 테이블\n",
    "GROUP BY lot,lat\n",
    "HAVING COUNT(lot) > 1 AND COUNT(lat) > 1;\n",
    "\n",
    "#위의 셀렉트결과를 토대로 중복값 제거\n",
    "DELETE t1 FROM medical t1 \n",
    "JOIN medical t2\n",
    "ON t1.lot=t2.lot AND t1.lat=t2.lat\n",
    "WHERE t1.id > t2.id;\n",
    "\n",
    "#삭제로 일정하지않은 id를 재생성\n",
    "SET @CON =0;\n",
    "UPDATE medical SET id = @CON:=@CON+1;\n"
   ]
  }
 ],
 "metadata": {
  "language_info": {
   "name": "python"
  },
  "orig_nbformat": 4
 },
 "nbformat": 4,
 "nbformat_minor": 2
}
